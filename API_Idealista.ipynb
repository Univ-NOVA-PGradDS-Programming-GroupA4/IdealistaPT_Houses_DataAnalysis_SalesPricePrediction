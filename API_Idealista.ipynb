{
  "cells": [
    {
      "cell_type": "code",
      "execution_count": null,
      "metadata": {
        "id": "Ig9cUl2En28I"
      },
      "outputs": [],
      "source": [
        "import pandas as pd\n",
        "import json\n",
        "import urllib\n",
        "import requests as rq\n",
        "import base64\n",
        "from urllib.parse import quote, urlencode\n",
        "import time"
      ]
    },
    {
      "cell_type": "code",
      "execution_count": null,
      "metadata": {
        "id": "3GCcEM6acRmC"
      },
      "outputs": [],
      "source": [
        "API_key = \"INSERT_API_KEY_HERE\"\n",
        "SECRET = \"INSERT_SECRET_KEY_HERE\"\n",
        "url = \"https://api.idealista.com/oauth/token\""
      ]
    },
    {
      "cell_type": "markdown",
      "source": [
        "### Steps:\n",
        "- URL encode your API key and secret according to RFC 1738\n",
        "- Concatenate the encoded like this \"API:Secret\" into a single string\n",
        "- Base64 encode the string from the previous step\n",
        "- Use this string to get the bearer token to use for the search"
      ],
      "metadata": {
        "id": "tOJ9_4BeKun5"
      }
    },
    {
      "cell_type": "code",
      "execution_count": null,
      "metadata": {
        "id": "HlRjGJz5n9FI"
      },
      "outputs": [],
      "source": [
        "def get_oauth_token():\n",
        "    url = \"https://api.idealista.com/oauth/token\"\n",
        "    apikey= API_key #sent by idealista\n",
        "    secret= SECRET  #sent by idealista\n",
        "    encoded_api_key = quote(apikey, safe='')\n",
        "    encoded_api_secret = quote(secret, safe='')\n",
        "    enc = f\"{encoded_api_key}:{encoded_api_secret}\"\n",
        "    auth = base64.b64encode(enc.encode())\n",
        "    headers = {'Content-Type': 'application/x-www-form-urlencoded;charset=UTF-8' ,'Authorization' : 'Basic ' + auth.decode()}\n",
        "    params = urlencode({'grant_type':'client_credentials'})\n",
        "    content = rq.post(url,headers = headers, params=params)\n",
        "    bearer_token = json.loads(content.text)['access_token']\n",
        "    return bearer_token"
      ]
    },
    {
      "cell_type": "code",
      "execution_count": null,
      "metadata": {
        "id": "qYTxk05Eo5SP"
      },
      "outputs": [],
      "source": [
        "def search_api(token, url):\n",
        "    headers = {'Content-Type': 'Content-Type: multipart/form-data;', 'Authorization' : 'Bearer ' + token}\n",
        "    content = rq.post(url, headers = headers)\n",
        "    result = json.loads(content.text)\n",
        "    return result"
      ]
    },
    {
      "cell_type": "markdown",
      "source": [
        "Here we search for each county using the code that can be seen in this list, that we got by reading the HTML code in the website and reading the API documentation. We chose those counties based on the amount of listing we could get to form a reliable sample that could fit within the limits of our alloted api access."
      ],
      "metadata": {
        "id": "h7445_P8L2Zx"
      }
    },
    {
      "cell_type": "code",
      "execution_count": null,
      "metadata": {
        "id": "BHdsT8i_I2aE"
      },
      "outputs": [],
      "source": [
        "concelhos = {\"lisboa\": [176, '0-EU-PT-11-06'], \"cascais\": [73, '0-EU-PT-11-05'], \"amadora\": [19, '0-EU-PT-11-15'],\"oeiras\" : [30,'0-EU-PT-11-10'] , \"odivelas\" : [17,'0-EU-PT-11-16'], \"loures\" : [26,'0-EU-PT-11-07'], \"VF_Xira\" : [17,'0-EU-PT-11-14']}\n",
        "\n",
        "for key, value in concelhos.items():\n",
        "    df_tot = pd.DataFrame()\n",
        "    for i in range(value[0]):\n",
        "        pagina = str(i)\n",
        "\n",
        "\n",
        "        locationId = value[1] #lisboa\n",
        "        country = 'pt' #values: es, it, pt\n",
        "        language = 'pt' #\n",
        "        max_items = '50'\n",
        "        operation = 'sale'\n",
        "        property_type = 'homes'\n",
        "        order = 'publicationDate'\n",
        "        sort = 'desc'\n",
        "        #specific to houses:\n",
        "        #preservation= 'renew'\n",
        "        url = ('https://api.idealista.com/3.5/'+country+'/search?operation='+operation+\n",
        "                   '&maxItems='+max_items+\n",
        "                   '&order='+order+\n",
        "                   '&locationId='+locationId+\n",
        "                   '&propertyType='+property_type+\n",
        "                   '&sort='+sort+\n",
        "                   '&numPage='+pagina+\n",
        "                   '&language='+language)\n",
        "\n",
        "        oauth_token = get_oauth_token()\n",
        "        data = search_api(oauth_token, url)\n",
        "        df = pd.DataFrame.from_dict(data['elementList'])\n",
        "        df_tot = pd.concat([df_tot,df])\n",
        "        time.sleep(1)\n",
        "    df_tot.to_csv(key+\".csv\", index=False)"
      ]
    },
    {
      "cell_type": "code",
      "execution_count": null,
      "metadata": {
        "colab": {
          "base_uri": "https://localhost:8080/",
          "height": 1000
        },
        "id": "z3FVx7ZVZRAB",
        "outputId": "f7f81626-1b57-4c3b-bb84-00930d1b97a1"
      },
      "outputs": [
        {
          "data": {
            "text/html": [
              "<div>\n",
              "<style scoped>\n",
              "    .dataframe tbody tr th:only-of-type {\n",
              "        vertical-align: middle;\n",
              "    }\n",
              "\n",
              "    .dataframe tbody tr th {\n",
              "        vertical-align: top;\n",
              "    }\n",
              "\n",
              "    .dataframe thead th {\n",
              "        text-align: right;\n",
              "    }\n",
              "</style>\n",
              "<table border=\"1\" class=\"dataframe\">\n",
              "  <thead>\n",
              "    <tr style=\"text-align: right;\">\n",
              "      <th></th>\n",
              "      <th>propertyCode</th>\n",
              "      <th>thumbnail</th>\n",
              "      <th>numPhotos</th>\n",
              "      <th>floor</th>\n",
              "      <th>price</th>\n",
              "      <th>priceInfo</th>\n",
              "      <th>propertyType</th>\n",
              "      <th>operation</th>\n",
              "      <th>size</th>\n",
              "      <th>rooms</th>\n",
              "      <th>...</th>\n",
              "      <th>has3DTour</th>\n",
              "      <th>has360</th>\n",
              "      <th>hasStaging</th>\n",
              "      <th>topNewDevelopment</th>\n",
              "      <th>topPlus</th>\n",
              "      <th>externalReference</th>\n",
              "      <th>district</th>\n",
              "      <th>description</th>\n",
              "      <th>highlight</th>\n",
              "      <th>newDevelopmentFinished</th>\n",
              "    </tr>\n",
              "  </thead>\n",
              "  <tbody>\n",
              "    <tr>\n",
              "      <th>0</th>\n",
              "      <td>33418366</td>\n",
              "      <td>https://img3.idealista.pt/blur/WEB_LISTING/0/i...</td>\n",
              "      <td>21</td>\n",
              "      <td>1</td>\n",
              "      <td>330000.0</td>\n",
              "      <td>{'price': {'amount': 330000.0}}</td>\n",
              "      <td>flat</td>\n",
              "      <td>sale</td>\n",
              "      <td>150.0</td>\n",
              "      <td>3</td>\n",
              "      <td>...</td>\n",
              "      <td>False</td>\n",
              "      <td>False</td>\n",
              "      <td>False</td>\n",
              "      <td>False</td>\n",
              "      <td>False</td>\n",
              "      <td>NaN</td>\n",
              "      <td>NaN</td>\n",
              "      <td>NaN</td>\n",
              "      <td>NaN</td>\n",
              "      <td>NaN</td>\n",
              "    </tr>\n",
              "    <tr>\n",
              "      <th>1</th>\n",
              "      <td>33418269</td>\n",
              "      <td>https://img3.idealista.pt/blur/WEB_LISTING/0/i...</td>\n",
              "      <td>14</td>\n",
              "      <td>NaN</td>\n",
              "      <td>170000.0</td>\n",
              "      <td>{'price': {'amount': 170000.0}}</td>\n",
              "      <td>flat</td>\n",
              "      <td>sale</td>\n",
              "      <td>80.0</td>\n",
              "      <td>2</td>\n",
              "      <td>...</td>\n",
              "      <td>False</td>\n",
              "      <td>False</td>\n",
              "      <td>False</td>\n",
              "      <td>False</td>\n",
              "      <td>False</td>\n",
              "      <td>VFX070</td>\n",
              "      <td>NaN</td>\n",
              "      <td>NaN</td>\n",
              "      <td>NaN</td>\n",
              "      <td>NaN</td>\n",
              "    </tr>\n",
              "    <tr>\n",
              "      <th>2</th>\n",
              "      <td>33418175</td>\n",
              "      <td>https://img3.idealista.pt/blur/WEB_LISTING/0/i...</td>\n",
              "      <td>20</td>\n",
              "      <td>NaN</td>\n",
              "      <td>169900.0</td>\n",
              "      <td>{'price': {'amount': 169900.0}}</td>\n",
              "      <td>flat</td>\n",
              "      <td>sale</td>\n",
              "      <td>91.0</td>\n",
              "      <td>3</td>\n",
              "      <td>...</td>\n",
              "      <td>False</td>\n",
              "      <td>False</td>\n",
              "      <td>False</td>\n",
              "      <td>False</td>\n",
              "      <td>False</td>\n",
              "      <td>122601320-80</td>\n",
              "      <td>NaN</td>\n",
              "      <td>NaN</td>\n",
              "      <td>NaN</td>\n",
              "      <td>NaN</td>\n",
              "    </tr>\n",
              "    <tr>\n",
              "      <th>3</th>\n",
              "      <td>33418110</td>\n",
              "      <td>https://img3.idealista.pt/blur/WEB_LISTING/0/i...</td>\n",
              "      <td>27</td>\n",
              "      <td>NaN</td>\n",
              "      <td>180000.0</td>\n",
              "      <td>{'price': {'amount': 180000.0}}</td>\n",
              "      <td>flat</td>\n",
              "      <td>sale</td>\n",
              "      <td>77.0</td>\n",
              "      <td>2</td>\n",
              "      <td>...</td>\n",
              "      <td>False</td>\n",
              "      <td>False</td>\n",
              "      <td>False</td>\n",
              "      <td>False</td>\n",
              "      <td>False</td>\n",
              "      <td>120992531-302</td>\n",
              "      <td>NaN</td>\n",
              "      <td>NaN</td>\n",
              "      <td>NaN</td>\n",
              "      <td>NaN</td>\n",
              "    </tr>\n",
              "    <tr>\n",
              "      <th>4</th>\n",
              "      <td>33417855</td>\n",
              "      <td>https://img3.idealista.pt/blur/WEB_LISTING/0/i...</td>\n",
              "      <td>17</td>\n",
              "      <td>NaN</td>\n",
              "      <td>140000.0</td>\n",
              "      <td>{'price': {'amount': 140000.0}}</td>\n",
              "      <td>flat</td>\n",
              "      <td>sale</td>\n",
              "      <td>62.0</td>\n",
              "      <td>2</td>\n",
              "      <td>...</td>\n",
              "      <td>False</td>\n",
              "      <td>False</td>\n",
              "      <td>False</td>\n",
              "      <td>False</td>\n",
              "      <td>False</td>\n",
              "      <td>C0483-00706</td>\n",
              "      <td>NaN</td>\n",
              "      <td>NaN</td>\n",
              "      <td>NaN</td>\n",
              "      <td>NaN</td>\n",
              "    </tr>\n",
              "  </tbody>\n",
              "</table>\n",
              "<p>5 rows × 38 columns</p>\n",
              "</div>"
            ],
            "text/plain": [
              "  propertyCode                                          thumbnail  numPhotos  \\\n",
              "0     33418366  https://img3.idealista.pt/blur/WEB_LISTING/0/i...         21   \n",
              "1     33418269  https://img3.idealista.pt/blur/WEB_LISTING/0/i...         14   \n",
              "2     33418175  https://img3.idealista.pt/blur/WEB_LISTING/0/i...         20   \n",
              "3     33418110  https://img3.idealista.pt/blur/WEB_LISTING/0/i...         27   \n",
              "4     33417855  https://img3.idealista.pt/blur/WEB_LISTING/0/i...         17   \n",
              "\n",
              "  floor     price                        priceInfo propertyType operation  \\\n",
              "0     1  330000.0  {'price': {'amount': 330000.0}}         flat      sale   \n",
              "1   NaN  170000.0  {'price': {'amount': 170000.0}}         flat      sale   \n",
              "2   NaN  169900.0  {'price': {'amount': 169900.0}}         flat      sale   \n",
              "3   NaN  180000.0  {'price': {'amount': 180000.0}}         flat      sale   \n",
              "4   NaN  140000.0  {'price': {'amount': 140000.0}}         flat      sale   \n",
              "\n",
              "    size  rooms  ...  has3DTour has360 hasStaging topNewDevelopment topPlus  \\\n",
              "0  150.0      3  ...      False  False      False             False   False   \n",
              "1   80.0      2  ...      False  False      False             False   False   \n",
              "2   91.0      3  ...      False  False      False             False   False   \n",
              "3   77.0      2  ...      False  False      False             False   False   \n",
              "4   62.0      2  ...      False  False      False             False   False   \n",
              "\n",
              "   externalReference  district  description highlight  newDevelopmentFinished  \n",
              "0                NaN       NaN          NaN       NaN                     NaN  \n",
              "1             VFX070       NaN          NaN       NaN                     NaN  \n",
              "2       122601320-80       NaN          NaN       NaN                     NaN  \n",
              "3      120992531-302       NaN          NaN       NaN                     NaN  \n",
              "4        C0483-00706       NaN          NaN       NaN                     NaN  \n",
              "\n",
              "[5 rows x 38 columns]"
            ]
          },
          "execution_count": 13,
          "metadata": {},
          "output_type": "execute_result"
        }
      ],
      "source": [
        "df_tot.head()"
      ]
    },
    {
      "cell_type": "code",
      "execution_count": null,
      "metadata": {
        "id": "MEiGjZ_tI2aH"
      },
      "outputs": [],
      "source": []
    }
  ],
  "metadata": {
    "colab": {
      "machine_shape": "hm",
      "provenance": []
    },
    "kernelspec": {
      "display_name": "Python 3 (ipykernel)",
      "language": "python",
      "name": "python3"
    },
    "language_info": {
      "codemirror_mode": {
        "name": "ipython",
        "version": 3
      },
      "file_extension": ".py",
      "mimetype": "text/x-python",
      "name": "python",
      "nbconvert_exporter": "python",
      "pygments_lexer": "ipython3",
      "version": "3.11.7"
    }
  },
  "nbformat": 4,
  "nbformat_minor": 0
}