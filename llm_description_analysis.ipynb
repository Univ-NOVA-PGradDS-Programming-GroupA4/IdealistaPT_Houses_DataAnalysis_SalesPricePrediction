{
 "cells": [
  {
   "cell_type": "markdown",
   "id": "6ef13bf2-ebf8-40be-ac31-13ffd5ffe87a",
   "metadata": {},
   "source": [
    "# LLM for analyzing Description content and evaluate the ad's validity"
   ]
  },
  {
   "cell_type": "markdown",
   "id": "d929e506-f7bc-4cc2-827d-c508d1c8e341",
   "metadata": {},
   "source": [
    "## 1. Initialize notebook"
   ]
  },
  {
   "cell_type": "code",
   "execution_count": 1,
   "id": "8a68feff-6f13-4f1e-81af-cded07762b8d",
   "metadata": {},
   "outputs": [],
   "source": [
    "#import libraries\n",
    "import pandas as pd\n",
    "from langchain_community.llms import Ollama\n",
    "import time\n"
   ]
  },
  {
   "cell_type": "code",
   "execution_count": 2,
   "id": "0e823037-e3ad-44cd-b8a4-08befe29de1c",
   "metadata": {},
   "outputs": [],
   "source": [
    "#import clean dataset\n",
    "df = pd.read_csv('data_clean4.csv')"
   ]
  },
  {
   "cell_type": "code",
   "execution_count": 3,
   "id": "027579f4-2416-41b0-8a7c-43baf881dcdf",
   "metadata": {},
   "outputs": [],
   "source": [
    "#create model\n",
    "#llama3 is the most advanced model to run locally\n",
    "llm = Ollama(model=\"llama3\", temperature=0.2)\n",
    "#temperature 0.2 for increased accuracy and less creativity, according to the task at hand "
   ]
  },
  {
   "cell_type": "markdown",
   "id": "22947b68-dfeb-437a-851f-30d1db23653f",
   "metadata": {},
   "source": [
    "## 2. Prompt engineering"
   ]
  },
  {
   "cell_type": "code",
   "execution_count": 4,
   "id": "7d35b216-0758-4129-a095-f402beabc832",
   "metadata": {},
   "outputs": [],
   "source": [
    "#template that will be used in all calls of the llm\n",
    "\n",
    "PROMPT_TEMPLATE = \"\"\"\\\n",
    "You are a good detective specialized in the housing market. You will get a text describing a house sale from a website which may be in Portuguese or Spanish.\n",
    "The houses should be sold in good condition, or about to be ready to live in. However, some houses are ruins or only have the project of the house, but no building at all.\n",
    "Your job is to get read the description and tell me if the house is not proper for an ad because of it not having a building or being a ruin or some condition that makes inhabitable.\n",
    "\n",
    "Considering the following description:\n",
    "----------------\n",
    "{description}\n",
    "----------------\n",
    "\n",
    "Tell me if the house is not proper for an ad because of it not having a building or being a ruin or some condition that makes inhabitable, in which case respond only 'no' (not proper) or 'yes' (proper).\n",
    "Do not say anything else.\n",
    "\"\"\""
   ]
  },
  {
   "cell_type": "markdown",
   "id": "9efdf827-a78a-4472-bd4e-4b24be3f1b9b",
   "metadata": {},
   "source": [
    "## 3. Evaluate content of Description and get LLM's evaluation"
   ]
  },
  {
   "cell_type": "code",
   "execution_count": 6,
   "id": "2a61e4df-ddf2-4029-8748-c900e21c677a",
   "metadata": {},
   "outputs": [
    {
     "data": {
      "text/plain": [
       "[0, 1, 2, 3, 4, 5, 6, 7, 8, 9, 10, 11, 12, 13, 14, 15, 16]"
      ]
     },
     "execution_count": 6,
     "metadata": {},
     "output_type": "execute_result"
    }
   ],
   "source": [
    "list(range(17))"
   ]
  },
  {
   "cell_type": "code",
   "execution_count": 45,
   "id": "3f5b71b0-30b6-40d2-ab85-f11a0a6aaca4",
   "metadata": {},
   "outputs": [
    {
     "name": "stdout",
     "output_type": "stream",
     "text": [
      "Time taken for the loop: 227 seconds\n",
      "['empty', 'empty', 'empty', 'Yes', 'Yes', 'Yes', 'No', 'Yes', 'Yes', 'No', 'Yes', 'No', 'No', 'No', 'empty', 'empty', 'Yes', 'empty', 'Yes', 'empty', 'Yes', 'Yes', 'Yes', 'Yes', 'empty', 'empty', 'Yes', 'Yes', 'Yes', 'Yes', 'Yes', 'empty', 'empty', 'empty', 'Yes', 'Yes', 'empty', 'Yes', 'Yes', 'Yes', 'empty', 'empty', 'No', 'empty', 'Yes', 'Yes', 'empty', 'empty', 'empty', 'Yes', 'Yes', 'empty', 'Yes', 'Yes', 'Yes', 'empty', 'Yes', 'Yes', 'Yes', 'empty', 'Yes', 'empty', 'Yes', 'Yes', 'empty', 'Yes', 'Yes', 'Yes', 'empty', 'Yes', 'Yes', 'empty', 'empty', 'Yes', 'empty', 'Yes', 'Yes', 'Yes', 'Yes', 'empty', 'empty', 'empty', 'empty', 'empty', 'empty', 'empty', 'Yes', 'empty', 'empty', 'empty', 'empty', 'empty', 'Yes', 'Yes', 'Yes', 'empty', 'empty', 'Yes', 'Yes', 'Yes']\n"
     ]
    }
   ],
   "source": [
    "#list to store the answers, this list will turn into a new column for the df\n",
    "\n",
    "\n",
    "# Record the start time\n",
    "start_time = time.time()\n",
    "\n",
    "\n",
    "# Loop through the first 100 rows of the DataFrame\n",
    "for j in range (17):\n",
    "    lista = []\n",
    "    rows = []\n",
    "    for i in range(len(df)):\n",
    "        row = j*100+i\n",
    "        # Check if the 'description' field is NaN\n",
    "        if pd.isna(df.iloc[row]['description']):\n",
    "            answer = 'empty'\n",
    "        else:\n",
    "            # Format the prompt with the description\n",
    "            description = df.iloc[row]['description']\n",
    "            prompt = PROMPT_TEMPLATE.format(description=description)\n",
    "            # Invoke the LLM with the formatted prompt\n",
    "            answer = llm.invoke(prompt)\n",
    "        # Append the answer to the list\n",
    "        lista.append(answer)\n",
    "        rows.append(row)\n",
    "\n",
    "        #create Series and save to disk\n",
    "        series = pd.Series(data=)\n",
    "    \n",
    "    # Record the end time\n",
    "    end_time = time.time()\n",
    "    \n",
    "    # Calculate the duration\n",
    "    duration = end_time - start_time\n",
    "    \n",
    "    # Print the time taken\n",
    "    print(f\"Time taken for the loop: {duration:.0f} seconds\")\n",
    "    \n",
    "    \n",
    "    # Print the list of answers\n",
    "    print(lista)"
   ]
  },
  {
   "cell_type": "code",
   "execution_count": 50,
   "id": "36083078-33a5-492a-becd-24a1f0d1bda4",
   "metadata": {},
   "outputs": [
    {
     "name": "stdout",
     "output_type": "stream",
     "text": [
      "number of \"yes\": 52\n",
      "number of \"no\": 6\n",
      "Percent of entries with description is: 58.0%\n",
      "\"No\" percentage is: 10.3%\n"
     ]
    }
   ],
   "source": [
    "#evaluate performance\n",
    "yes=lista.count('Yes')\n",
    "no=lista.count('No')\n",
    "percent=(yes+no)/len(lista)\n",
    "print(f'number of \"yes\": {yes}')\n",
    "print(f'number of \"no\": {no}')\n",
    "total=yes+no\n",
    "print(f'Percent of entries with description is: {total/len(lista)*100:.1f}%')\n",
    "print(f'\"No\" percentage is: {no/(total)*100:.1f}%')"
   ]
  },
  {
   "cell_type": "code",
   "execution_count": 52,
   "id": "7af8f38a-cf3f-4f8a-9ad9-8556f056ecce",
   "metadata": {},
   "outputs": [
    {
     "name": "stdout",
     "output_type": "stream",
     "text": [
      "Analyzing the whole dataset would take 9.256667673473617 hours.\n"
     ]
    }
   ],
   "source": [
    "total_duration = duration/total*8500/60/60 #aprox duration of analyzing the whole dataset (in hours)\n",
    "print(f'Analyzing the whole dataset would take {total_duration} hours.')"
   ]
  },
  {
   "cell_type": "markdown",
   "id": "6b0ae10d-83ee-4bc7-a358-a77db4af451b",
   "metadata": {},
   "source": [
    "## Next Steps\n",
    "- run model on the whole dataset\n",
    "- create a new column in the df with the result from the LLM, and  eclude the 'no' entries\n",
    "- re-train ML model on the new, cleaner dataset\n",
    "- re-analyze data on the new, cleaner dataset"
   ]
  },
  {
   "cell_type": "code",
   "execution_count": null,
   "id": "99c96fb4-5050-4437-b888-ce726d2b1c5e",
   "metadata": {},
   "outputs": [],
   "source": []
  }
 ],
 "metadata": {
  "kernelspec": {
   "display_name": "Python 3 (ipykernel)",
   "language": "python",
   "name": "python3"
  },
  "language_info": {
   "codemirror_mode": {
    "name": "ipython",
    "version": 3
   },
   "file_extension": ".py",
   "mimetype": "text/x-python",
   "name": "python",
   "nbconvert_exporter": "python",
   "pygments_lexer": "ipython3",
   "version": "3.12.3"
  }
 },
 "nbformat": 4,
 "nbformat_minor": 5
}
